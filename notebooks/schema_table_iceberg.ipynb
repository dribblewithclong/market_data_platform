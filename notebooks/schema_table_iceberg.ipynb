{
 "cells": [
  {
   "cell_type": "code",
   "execution_count": 5,
   "metadata": {},
   "outputs": [
    {
     "data": {
      "text/plain": [
       "True"
      ]
     },
     "execution_count": 5,
     "metadata": {},
     "output_type": "execute_result"
    }
   ],
   "source": [
    "import os\n",
    "from trino.dbapi import connect\n",
    "import pandas as pd\n",
    "from dotenv import load_dotenv\n",
    "\n",
    "load_dotenv(\n",
    "    os.path.dirname(\n",
    "        os.getcwd()\n",
    "    ) + '/.env'\n",
    ")\n"
   ]
  },
  {
   "cell_type": "code",
   "execution_count": 6,
   "metadata": {},
   "outputs": [],
   "source": [
    "conn = connect(\n",
    "    host=os.getenv('TRINO_HOST'),\n",
    "    port=\"8180\",\n",
    "    user=os.getenv('TRINO_USER'),\n",
    ")\n",
    "cur = conn.cursor()"
   ]
  },
  {
   "cell_type": "code",
   "execution_count": 7,
   "metadata": {},
   "outputs": [
    {
     "data": {
      "text/plain": [
       "<trino.dbapi.Cursor at 0x7ffac6056180>"
      ]
     },
     "execution_count": 7,
     "metadata": {},
     "output_type": "execute_result"
    }
   ],
   "source": [
    "# create schema\n",
    "cur.execute(\"\"\"\n",
    "CREATE SCHEMA iceberg.bronze\n",
    "WITH (location = 's3a://lakehouse/bronze')\n",
    "\"\"\")\n",
    "cur.execute(\"\"\"\n",
    "CREATE SCHEMA iceberg.silver\n",
    "WITH (location = 's3a://lakehouse/silver')\n",
    "\"\"\")\n",
    "cur.execute(\"\"\"\n",
    "CREATE SCHEMA iceberg.gold\n",
    "WITH (location = 's3a://lakehouse/gold')\n",
    "\"\"\")"
   ]
  },
  {
   "cell_type": "code",
   "execution_count": 11,
   "metadata": {},
   "outputs": [
    {
     "data": {
      "text/plain": [
       "<trino.dbapi.Cursor at 0x7ffac6056180>"
      ]
     },
     "execution_count": 11,
     "metadata": {},
     "output_type": "execute_result"
    }
   ],
   "source": [
    "# create table for silver layer\n",
    "cur.execute(\"\"\"\n",
    "CREATE TABLE iceberg.silver.asin_info (\n",
    "    asin VARCHAR,\n",
    "    country VARCHAR,\n",
    "    product_name VARCHAR,\n",
    "    brand VARCHAR,\n",
    "    product_description VARCHAR,\n",
    "    product_attribute VARCHAR,\n",
    "    product_details VARCHAR,\n",
    "    product_category VARCHAR,\n",
    "    price REAL,\n",
    "    price_raw VARCHAR,\n",
    "    overall_rating REAL,\n",
    "    overall_num_rating INTEGER,\n",
    "    last_updated TIMESTAMP(6)\n",
    ")\n",
    "WITH (\n",
    "    format = 'PARQUET',\n",
    "    partitioning = ARRAY['country', 'brand'],\n",
    "    sorted_by = ARRAY['overall_num_rating', 'overall_rating']\n",
    ")\n",
    "\"\"\")"
   ]
  },
  {
   "cell_type": "code",
   "execution_count": 12,
   "metadata": {},
   "outputs": [],
   "source": [
    "cur.close()\n",
    "conn.close()"
   ]
  },
  {
   "cell_type": "code",
   "execution_count": null,
   "metadata": {},
   "outputs": [],
   "source": []
  }
 ],
 "metadata": {
  "kernelspec": {
   "display_name": "insideout_platform",
   "language": "python",
   "name": "python3"
  },
  "language_info": {
   "codemirror_mode": {
    "name": "ipython",
    "version": 3
   },
   "file_extension": ".py",
   "mimetype": "text/x-python",
   "name": "python",
   "nbconvert_exporter": "python",
   "pygments_lexer": "ipython3",
   "version": "3.12.4"
  }
 },
 "nbformat": 4,
 "nbformat_minor": 2
}
